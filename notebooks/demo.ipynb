{
 "cells": [
  {
   "cell_type": "markdown",
   "id": "e65d58bb",
   "metadata": {},
   "source": [
    "# GraphRAG 项目演示\n",
    "\n",
    "这个notebook演示了如何使用我们的GraphRAG系统进行知识图谱构建和问答。\n"
   ]
  },
  {
   "cell_type": "code",
   "execution_count": 4,
   "id": "a82234d8",
   "metadata": {},
   "outputs": [
    {
     "ename": "ImportError",
     "evalue": "cannot import name 'GraphRAGEngine' from 'src.rag_engine' (/Users/jiakechu/Desktop/llm rl 学习/graphrag/notebooks/../src/rag_engine.py)",
     "output_type": "error",
     "traceback": [
      "\u001b[31m---------------------------------------------------------------------------\u001b[39m",
      "\u001b[31mImportError\u001b[39m                               Traceback (most recent call last)",
      "\u001b[36mCell\u001b[39m\u001b[36m \u001b[39m\u001b[32mIn[4]\u001b[39m\u001b[32m, line 7\u001b[39m\n\u001b[32m      5\u001b[39m \u001b[38;5;28;01mimport\u001b[39;00m\u001b[38;5;250m \u001b[39m\u001b[34;01masyncio\u001b[39;00m\n\u001b[32m      6\u001b[39m \u001b[38;5;28;01mimport\u001b[39;00m\u001b[38;5;250m \u001b[39m\u001b[34;01mjson\u001b[39;00m\n\u001b[32m----> \u001b[39m\u001b[32m7\u001b[39m \u001b[38;5;28;01mfrom\u001b[39;00m\u001b[38;5;250m \u001b[39m\u001b[34;01msrc\u001b[39;00m\u001b[34;01m.\u001b[39;00m\u001b[34;01mrag_engine\u001b[39;00m\u001b[38;5;250m \u001b[39m\u001b[38;5;28;01mimport\u001b[39;00m GraphRAGEngine\n\u001b[32m      8\u001b[39m \u001b[38;5;28;01mfrom\u001b[39;00m\u001b[38;5;250m \u001b[39m\u001b[34;01msrc\u001b[39;00m\u001b[34;01m.\u001b[39;00m\u001b[34;01mutils\u001b[39;00m\u001b[38;5;250m \u001b[39m\u001b[38;5;28;01mimport\u001b[39;00m load_config, visualize_graph\n\u001b[32m     10\u001b[39m \u001b[38;5;66;03m# 设置异步环境\u001b[39;00m\n",
      "\u001b[31mImportError\u001b[39m: cannot import name 'GraphRAGEngine' from 'src.rag_engine' (/Users/jiakechu/Desktop/llm rl 学习/graphrag/notebooks/../src/rag_engine.py)"
     ]
    }
   ],
   "source": [
    "import sys\n",
    "import os\n",
    "sys.path.append('..')\n",
    "\n",
    "import asyncio\n",
    "import json\n",
    "from src.rag_engine import GraphRAGEngine\n",
    "from src.utils import load_config, visualize_graph\n",
    "\n",
    "# 设置异步环境\n",
    "import nest_asyncio\n",
    "nest_asyncio.apply()"
   ]
  },
  {
   "cell_type": "markdown",
   "id": "4b485df1",
   "metadata": {},
   "source": [
    "## 1. 初始化GraphRAG引擎"
   ]
  },
  {
   "cell_type": "code",
   "execution_count": null,
   "id": "b7f2ab41",
   "metadata": {},
   "outputs": [],
   "source": [
    "# 加载配置\n",
    "config = load_config('../config/config.yaml')\n",
    "\n",
    "# 创建引擎\n",
    "engine = GraphRAGEngine(config)\n",
    "\n",
    "# 从SQuAD数据集初始化\n",
    "await engine.initialize_from_dataset('squad')\n",
    "\n",
    "print(\"GraphRAG引擎初始化完成！\")"
   ]
  },
  {
   "cell_type": "markdown",
   "id": "6487b653",
   "metadata": {},
   "source": [
    "## 2. 查看图统计信息"
   ]
  },
  {
   "cell_type": "code",
   "execution_count": null,
   "id": "8f29fa35",
   "metadata": {},
   "outputs": [],
   "source": [
    "# 获取图统计信息\n",
    "stats = engine.get_graph_summary()\n",
    "\n",
    "print(\"📊 知识图谱统计信息:\")\n",
    "for key, value in stats.items():\n",
    "    print(f\"  {key}: {value}\")"
   ]
  },
  {
   "cell_type": "markdown",
   "id": "b5c09914",
   "metadata": {},
   "source": [
    "## 3. 可视化知识图谱"
   ]
  },
  {
   "cell_type": "code",
   "execution_count": null,
   "id": "dc83f143",
   "metadata": {},
   "outputs": [],
   "source": [
    "# 可视化图\n",
    "visualize_graph(engine.graph, max_nodes=50)"
   ]
  },
  {
   "cell_type": "code",
   "execution_count": null,
   "id": "6c21fe7e",
   "metadata": {},
   "outputs": [],
   "source": [
    "## 4. 进行查询"
   ]
  },
  {
   "cell_type": "code",
   "execution_count": null,
   "id": "1e0f2819",
   "metadata": {},
   "outputs": [],
   "source": [
    "# 示例查询\n",
    "questions = [\n",
    "    \"What is artificial intelligence?\",\n",
    "    \"How does machine learning work?\",\n",
    "    \"What are neural networks?\"\n",
    "]\n",
    "\n",
    "results = []\n",
    "\n",
    "for question in questions:\n",
    "    print(f\"\\n🔍 问题: {question}\")\n",
    "    \n",
    "    result = await engine.query(question)\n",
    "    results.append(result)\n",
    "    \n",
    "    print(f\"💡 回答: {result['answer'][:200]}...\")\n",
    "    print(f\"🎯 置信度: {result['confidence']:.2f}\")\n",
    "    print(f\"🏷️  相关实体: {[e['text'] for e in result['entities'][:3]]}\")\n",
    "    print(f\"📚 来源数量: {len(result['sources'])}\")"
   ]
  },
  {
   "cell_type": "markdown",
   "id": "a8772c5f",
   "metadata": {},
   "source": [
    "## 5. 分析实体信息"
   ]
  },
  {
   "cell_type": "code",
   "execution_count": null,
   "id": "e5f38a2a",
   "metadata": {},
   "outputs": [],
   "source": [
    "# 获取图中的重要实体\n",
    "degrees = dict(engine.graph.degree())\n",
    "top_entities = sorted(degrees.items(), key=lambda x: x[1], reverse=True)[:10]\n",
    "\n",
    "print(\"🏆 最重要的实体 (按连接数排序):\")\n",
    "for entity, degree in top_entities:\n",
    "    print(f\"  {entity}: {degree} 个连接\")\n",
    "    \n",
    "    # 获取详细信息\n",
    "    entity_info = engine.get_entity_info(entity)\n",
    "    print(f\"    频次: {entity_info['frequency']}, 社区: {entity_info['community']}\")\n",
    "    print(f\"    邻居: {entity_info['neighbors'][:3]}\")\n",
    "    print()\n"
   ]
  },
  {
   "cell_type": "markdown",
   "id": "bdb7f0b7",
   "metadata": {},
   "source": [
    "## 6. 社区分析"
   ]
  },
  {
   "cell_type": "code",
   "execution_count": null,
   "id": "a2da43b0",
   "metadata": {},
   "outputs": [],
   "source": [
    "# 分析社区\n",
    "from collections import Counter\n",
    "\n",
    "community_counts = Counter(engine.communities.values())\n",
    "print(f\"📊 发现 {len(community_counts)} 个社区\")\n",
    "\n",
    "# 显示最大的几个社区\n",
    "for comm_id, size in community_counts.most_common(5):\n",
    "    print(f\"\\n🏘️  社区 {comm_id} (大小: {size})\")\n",
    "    \n",
    "    comm_info = engine.get_community_info(comm_id)\n",
    "    print(f\"  实体: {comm_info['entities'][:5]}\")\n",
    "    print(f\"  密度: {comm_info['density']:.3f}\")"
   ]
  },
  {
   "cell_type": "markdown",
   "id": "63c86ee4",
   "metadata": {},
   "source": [
    "## 7. 保存结果"
   ]
  },
  {
   "cell_type": "code",
   "execution_count": null,
   "id": "fa42a700",
   "metadata": {},
   "outputs": [],
   "source": [
    "# 保存查询结果\n",
    "with open('../output/notebook_results.json', 'w', encoding='utf-8') as f:\n",
    "    json.dump(results, f, ensure_ascii=False, indent=2)\n",
    "\n",
    "# 保存图结构\n",
    "engine.save_graph('../output/notebook_graph.json')\n",
    "\n",
    "print(\"✅ 结果已保存到 output/ 目录\")\n"
   ]
  },
  {
   "cell_type": "markdown",
   "id": "93068a2c",
   "metadata": {},
   "source": []
  }
 ],
 "metadata": {
  "kernelspec": {
   "display_name": "rl_env",
   "language": "python",
   "name": "python3"
  },
  "language_info": {
   "codemirror_mode": {
    "name": "ipython",
    "version": 3
   },
   "file_extension": ".py",
   "mimetype": "text/x-python",
   "name": "python",
   "nbconvert_exporter": "python",
   "pygments_lexer": "ipython3",
   "version": "3.11.13"
  }
 },
 "nbformat": 4,
 "nbformat_minor": 5
}
